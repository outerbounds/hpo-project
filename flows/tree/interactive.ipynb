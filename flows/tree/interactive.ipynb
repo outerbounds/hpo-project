{
 "cells": [
  {
   "cell_type": "markdown",
   "id": "327883ad",
   "metadata": {},
   "source": [
    "## Launching a run"
   ]
  },
  {
   "cell_type": "code",
   "execution_count": null,
   "id": "a5a8a378",
   "metadata": {},
   "outputs": [],
   "source": [
    "from hpo_client import HyperparameterTuner\n",
    "from utils import load_config\n",
    "\n",
    "config = load_config()"
   ]
  },
  {
   "cell_type": "markdown",
   "id": "fe611aa2",
   "metadata": {},
   "source": [
    "### (Optional) Iterate on the objective\n",
    "\n",
    "The following piece of code is an example `objective` function. \n",
    "You can use the [`%%writefile` magic](https://ipython.readthedocs.io/en/stable/interactive/magics.html#cellmagic-writefile) to write the file."
   ]
  },
  {
   "cell_type": "code",
   "execution_count": null,
   "id": "e081dec2",
   "metadata": {},
   "outputs": [],
   "source": [
    "%%writefile objective_fn_dev.py\n",
    "\n",
    "from sklearn.datasets import load_iris\n",
    "from sklearn.tree import ExtraTreeClassifier\n",
    "from sklearn.model_selection import cross_val_score\n",
    "import numpy as np\n",
    "\n",
    "def objective(trial):\n",
    "    data = load_iris()\n",
    "    X, y = data['data'], data['target']\n",
    "    max_depth = trial.suggest_int('max_depth', 4, 8)\n",
    "    criterion = trial.suggest_categorical(\n",
    "        'criterion',\n",
    "        [\"gini\", \"entropy\"]\n",
    "    )\n",
    "    model = ExtraTreeClassifier(max_depth=max_depth,\n",
    "                                criterion=criterion)\n",
    "    return np.mean(cross_val_score(model, X, y, cv=5))"
   ]
  },
  {
   "cell_type": "markdown",
   "id": "b8e83364",
   "metadata": {},
   "source": [
    "### Run the job\n",
    "\n",
    "Now using, the `HyperparameterTuner` class defined in `hpo_client.py`, we can pass this function we are iterating on. \n",
    "The purpose of this setup is to make it easier to iterate on the contents of the objective in notebook, save it, and run the flow with minimal moving parts."
   ]
  },
  {
   "cell_type": "code",
   "execution_count": null,
   "id": "d8c24c12",
   "metadata": {},
   "outputs": [],
   "source": [
    "tuner = HyperparameterTuner(\n",
    "    # objective_function_file=config['objective_function_file'],\n",
    "    objective_function_file='objective_fn_dev.py',\n",
    "    override_study_name=config.get('study_name', None),\n",
    "    optuna_app_name=config['optuna_app_name']\n",
    ")\n",
    "\n",
    "run_id = tuner.run_blocking(\n",
    "    override_compute_pool=config['compute_pool'],\n",
    "    n_trials=config['n_trials'],\n",
    "    trials_per_task=config['trials_per_task']\n",
    ")"
   ]
  },
  {
   "cell_type": "markdown",
   "id": "a414c65e",
   "metadata": {},
   "source": [
    "## Analysis\n",
    "\n",
    "After flows complete, the results of the hyperparameter tuning process will be captured in the `results` artifact. \n",
    "If you want to call `utils.load_study` it requires running in a Metaflow task or running the notebook/script from an Outerbounds workstation."
   ]
  },
  {
   "cell_type": "code",
   "execution_count": null,
   "id": "d47793b9",
   "metadata": {},
   "outputs": [],
   "source": [
    "from metaflow import Run\n",
    "from utils import extract_flow_name\n",
    "\n",
    "flow_name = extract_flow_name('flow.py', sanitize=False)\n",
    "run = Run(f\"{flow_name}/{run_id}\")\n",
    "study_df = run.data.results"
   ]
  },
  {
   "cell_type": "code",
   "execution_count": null,
   "id": "9ce8c980",
   "metadata": {},
   "outputs": [],
   "source": [
    "study_df"
   ]
  },
  {
   "cell_type": "markdown",
   "id": "65cb2e36",
   "metadata": {},
   "source": [
    "## Cleanup\n",
    "\n",
    "Either remove the dev file after iteration, or replace the previous objective function definition with this one. \n",
    "How this interacts with branching in GitHub is a matter of preference."
   ]
  },
  {
   "cell_type": "code",
   "execution_count": null,
   "id": "2db12303",
   "metadata": {},
   "outputs": [],
   "source": [
    "# Option A\n",
    "# ! rm ./objective_fn_dev.py\n",
    "\n",
    "# Option B\n",
    "# ! cp ./objective_fn_dev.py ./objective_fn.py"
   ]
  }
 ],
 "metadata": {
  "kernelspec": {
   "display_name": "Python 3",
   "language": "python",
   "name": "python3"
  },
  "language_info": {
   "codemirror_mode": {
    "name": "ipython",
    "version": 3
   },
   "file_extension": ".py",
   "mimetype": "text/x-python",
   "name": "python",
   "nbconvert_exporter": "python",
   "pygments_lexer": "ipython3",
   "version": "3.13.5"
  }
 },
 "nbformat": 4,
 "nbformat_minor": 5
}
